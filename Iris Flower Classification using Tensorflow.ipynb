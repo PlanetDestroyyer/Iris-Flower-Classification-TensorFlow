{
 "cells": [
  {
   "cell_type": "code",
   "execution_count": 40,
   "id": "932d3f2d",
   "metadata": {},
   "outputs": [],
   "source": [
    "import pandas as pd\n",
    "import numpy as np\n",
    "import tensorflow as tf\n",
    "import seaborn as sns\n",
    "from tensorflow.keras.models import Sequential\n",
    "from tensorflow.keras.layers import Dense,Dropout\n",
    "from sklearn.preprocessing import LabelEncoder , StandardScaler\n",
    "from sklearn.model_selection import train_test_split\n",
    "from sklearn.metrics import accuracy_score, confusion_matrix"
   ]
  },
  {
   "cell_type": "code",
   "execution_count": 2,
   "id": "e5dc033d",
   "metadata": {},
   "outputs": [],
   "source": [
    "df = pd.read_csv('Iris.csv')"
   ]
  },
  {
   "cell_type": "code",
   "execution_count": 3,
   "id": "eaf61217",
   "metadata": {},
   "outputs": [
    {
     "data": {
      "text/html": [
       "<div>\n",
       "<style scoped>\n",
       "    .dataframe tbody tr th:only-of-type {\n",
       "        vertical-align: middle;\n",
       "    }\n",
       "\n",
       "    .dataframe tbody tr th {\n",
       "        vertical-align: top;\n",
       "    }\n",
       "\n",
       "    .dataframe thead th {\n",
       "        text-align: right;\n",
       "    }\n",
       "</style>\n",
       "<table border=\"1\" class=\"dataframe\">\n",
       "  <thead>\n",
       "    <tr style=\"text-align: right;\">\n",
       "      <th></th>\n",
       "      <th>Id</th>\n",
       "      <th>SepalLengthCm</th>\n",
       "      <th>SepalWidthCm</th>\n",
       "      <th>PetalLengthCm</th>\n",
       "      <th>PetalWidthCm</th>\n",
       "      <th>Species</th>\n",
       "    </tr>\n",
       "  </thead>\n",
       "  <tbody>\n",
       "    <tr>\n",
       "      <th>0</th>\n",
       "      <td>1</td>\n",
       "      <td>5.1</td>\n",
       "      <td>3.5</td>\n",
       "      <td>1.4</td>\n",
       "      <td>0.2</td>\n",
       "      <td>Iris-setosa</td>\n",
       "    </tr>\n",
       "    <tr>\n",
       "      <th>1</th>\n",
       "      <td>2</td>\n",
       "      <td>4.9</td>\n",
       "      <td>3.0</td>\n",
       "      <td>1.4</td>\n",
       "      <td>0.2</td>\n",
       "      <td>Iris-setosa</td>\n",
       "    </tr>\n",
       "    <tr>\n",
       "      <th>2</th>\n",
       "      <td>3</td>\n",
       "      <td>4.7</td>\n",
       "      <td>3.2</td>\n",
       "      <td>1.3</td>\n",
       "      <td>0.2</td>\n",
       "      <td>Iris-setosa</td>\n",
       "    </tr>\n",
       "    <tr>\n",
       "      <th>3</th>\n",
       "      <td>4</td>\n",
       "      <td>4.6</td>\n",
       "      <td>3.1</td>\n",
       "      <td>1.5</td>\n",
       "      <td>0.2</td>\n",
       "      <td>Iris-setosa</td>\n",
       "    </tr>\n",
       "    <tr>\n",
       "      <th>4</th>\n",
       "      <td>5</td>\n",
       "      <td>5.0</td>\n",
       "      <td>3.6</td>\n",
       "      <td>1.4</td>\n",
       "      <td>0.2</td>\n",
       "      <td>Iris-setosa</td>\n",
       "    </tr>\n",
       "  </tbody>\n",
       "</table>\n",
       "</div>"
      ],
      "text/plain": [
       "   Id  SepalLengthCm  SepalWidthCm  PetalLengthCm  PetalWidthCm      Species\n",
       "0   1            5.1           3.5            1.4           0.2  Iris-setosa\n",
       "1   2            4.9           3.0            1.4           0.2  Iris-setosa\n",
       "2   3            4.7           3.2            1.3           0.2  Iris-setosa\n",
       "3   4            4.6           3.1            1.5           0.2  Iris-setosa\n",
       "4   5            5.0           3.6            1.4           0.2  Iris-setosa"
      ]
     },
     "execution_count": 3,
     "metadata": {},
     "output_type": "execute_result"
    }
   ],
   "source": [
    "df.head()"
   ]
  },
  {
   "cell_type": "code",
   "execution_count": 45,
   "id": "a99b9aa1",
   "metadata": {},
   "outputs": [],
   "source": [
    "species_name = le.classes_"
   ]
  },
  {
   "cell_type": "code",
   "execution_count": 4,
   "id": "a5995dd1",
   "metadata": {},
   "outputs": [
    {
     "data": {
      "text/plain": [
       "Id               0\n",
       "SepalLengthCm    0\n",
       "SepalWidthCm     0\n",
       "PetalLengthCm    0\n",
       "PetalWidthCm     0\n",
       "Species          0\n",
       "dtype: int64"
      ]
     },
     "execution_count": 4,
     "metadata": {},
     "output_type": "execute_result"
    }
   ],
   "source": [
    "df.isnull().sum()"
   ]
  },
  {
   "cell_type": "code",
   "execution_count": 5,
   "id": "2209e36e",
   "metadata": {},
   "outputs": [
    {
     "data": {
      "text/plain": [
       "0"
      ]
     },
     "execution_count": 5,
     "metadata": {},
     "output_type": "execute_result"
    }
   ],
   "source": [
    "df.duplicated().sum()"
   ]
  },
  {
   "cell_type": "code",
   "execution_count": 6,
   "id": "17389051",
   "metadata": {},
   "outputs": [],
   "source": [
    "le = LabelEncoder()\n",
    "df['Species'] = le.fit_transform(df['Species'])"
   ]
  },
  {
   "cell_type": "code",
   "execution_count": 7,
   "id": "ffe7f172",
   "metadata": {},
   "outputs": [
    {
     "data": {
      "text/html": [
       "<div>\n",
       "<style scoped>\n",
       "    .dataframe tbody tr th:only-of-type {\n",
       "        vertical-align: middle;\n",
       "    }\n",
       "\n",
       "    .dataframe tbody tr th {\n",
       "        vertical-align: top;\n",
       "    }\n",
       "\n",
       "    .dataframe thead th {\n",
       "        text-align: right;\n",
       "    }\n",
       "</style>\n",
       "<table border=\"1\" class=\"dataframe\">\n",
       "  <thead>\n",
       "    <tr style=\"text-align: right;\">\n",
       "      <th></th>\n",
       "      <th>Id</th>\n",
       "      <th>SepalLengthCm</th>\n",
       "      <th>SepalWidthCm</th>\n",
       "      <th>PetalLengthCm</th>\n",
       "      <th>PetalWidthCm</th>\n",
       "      <th>Species</th>\n",
       "    </tr>\n",
       "  </thead>\n",
       "  <tbody>\n",
       "    <tr>\n",
       "      <th>0</th>\n",
       "      <td>1</td>\n",
       "      <td>5.1</td>\n",
       "      <td>3.5</td>\n",
       "      <td>1.4</td>\n",
       "      <td>0.2</td>\n",
       "      <td>0</td>\n",
       "    </tr>\n",
       "    <tr>\n",
       "      <th>1</th>\n",
       "      <td>2</td>\n",
       "      <td>4.9</td>\n",
       "      <td>3.0</td>\n",
       "      <td>1.4</td>\n",
       "      <td>0.2</td>\n",
       "      <td>0</td>\n",
       "    </tr>\n",
       "    <tr>\n",
       "      <th>2</th>\n",
       "      <td>3</td>\n",
       "      <td>4.7</td>\n",
       "      <td>3.2</td>\n",
       "      <td>1.3</td>\n",
       "      <td>0.2</td>\n",
       "      <td>0</td>\n",
       "    </tr>\n",
       "    <tr>\n",
       "      <th>3</th>\n",
       "      <td>4</td>\n",
       "      <td>4.6</td>\n",
       "      <td>3.1</td>\n",
       "      <td>1.5</td>\n",
       "      <td>0.2</td>\n",
       "      <td>0</td>\n",
       "    </tr>\n",
       "    <tr>\n",
       "      <th>4</th>\n",
       "      <td>5</td>\n",
       "      <td>5.0</td>\n",
       "      <td>3.6</td>\n",
       "      <td>1.4</td>\n",
       "      <td>0.2</td>\n",
       "      <td>0</td>\n",
       "    </tr>\n",
       "  </tbody>\n",
       "</table>\n",
       "</div>"
      ],
      "text/plain": [
       "   Id  SepalLengthCm  SepalWidthCm  PetalLengthCm  PetalWidthCm  Species\n",
       "0   1            5.1           3.5            1.4           0.2        0\n",
       "1   2            4.9           3.0            1.4           0.2        0\n",
       "2   3            4.7           3.2            1.3           0.2        0\n",
       "3   4            4.6           3.1            1.5           0.2        0\n",
       "4   5            5.0           3.6            1.4           0.2        0"
      ]
     },
     "execution_count": 7,
     "metadata": {},
     "output_type": "execute_result"
    }
   ],
   "source": [
    "df.head()"
   ]
  },
  {
   "cell_type": "code",
   "execution_count": 8,
   "id": "ff39ee68",
   "metadata": {},
   "outputs": [],
   "source": [
    "X = df.drop(columns=['Id','Species'])"
   ]
  },
  {
   "cell_type": "code",
   "execution_count": 9,
   "id": "6ef9b579",
   "metadata": {},
   "outputs": [
    {
     "data": {
      "text/html": [
       "<div>\n",
       "<style scoped>\n",
       "    .dataframe tbody tr th:only-of-type {\n",
       "        vertical-align: middle;\n",
       "    }\n",
       "\n",
       "    .dataframe tbody tr th {\n",
       "        vertical-align: top;\n",
       "    }\n",
       "\n",
       "    .dataframe thead th {\n",
       "        text-align: right;\n",
       "    }\n",
       "</style>\n",
       "<table border=\"1\" class=\"dataframe\">\n",
       "  <thead>\n",
       "    <tr style=\"text-align: right;\">\n",
       "      <th></th>\n",
       "      <th>SepalLengthCm</th>\n",
       "      <th>SepalWidthCm</th>\n",
       "      <th>PetalLengthCm</th>\n",
       "      <th>PetalWidthCm</th>\n",
       "    </tr>\n",
       "  </thead>\n",
       "  <tbody>\n",
       "    <tr>\n",
       "      <th>0</th>\n",
       "      <td>5.1</td>\n",
       "      <td>3.5</td>\n",
       "      <td>1.4</td>\n",
       "      <td>0.2</td>\n",
       "    </tr>\n",
       "    <tr>\n",
       "      <th>1</th>\n",
       "      <td>4.9</td>\n",
       "      <td>3.0</td>\n",
       "      <td>1.4</td>\n",
       "      <td>0.2</td>\n",
       "    </tr>\n",
       "    <tr>\n",
       "      <th>2</th>\n",
       "      <td>4.7</td>\n",
       "      <td>3.2</td>\n",
       "      <td>1.3</td>\n",
       "      <td>0.2</td>\n",
       "    </tr>\n",
       "    <tr>\n",
       "      <th>3</th>\n",
       "      <td>4.6</td>\n",
       "      <td>3.1</td>\n",
       "      <td>1.5</td>\n",
       "      <td>0.2</td>\n",
       "    </tr>\n",
       "    <tr>\n",
       "      <th>4</th>\n",
       "      <td>5.0</td>\n",
       "      <td>3.6</td>\n",
       "      <td>1.4</td>\n",
       "      <td>0.2</td>\n",
       "    </tr>\n",
       "  </tbody>\n",
       "</table>\n",
       "</div>"
      ],
      "text/plain": [
       "   SepalLengthCm  SepalWidthCm  PetalLengthCm  PetalWidthCm\n",
       "0            5.1           3.5            1.4           0.2\n",
       "1            4.9           3.0            1.4           0.2\n",
       "2            4.7           3.2            1.3           0.2\n",
       "3            4.6           3.1            1.5           0.2\n",
       "4            5.0           3.6            1.4           0.2"
      ]
     },
     "execution_count": 9,
     "metadata": {},
     "output_type": "execute_result"
    }
   ],
   "source": [
    "X.head()"
   ]
  },
  {
   "cell_type": "code",
   "execution_count": 10,
   "id": "797c9acc",
   "metadata": {},
   "outputs": [],
   "source": [
    "y = df['Species']"
   ]
  },
  {
   "cell_type": "code",
   "execution_count": 11,
   "id": "6535de68",
   "metadata": {},
   "outputs": [
    {
     "data": {
      "text/plain": [
       "0    0\n",
       "1    0\n",
       "2    0\n",
       "3    0\n",
       "4    0\n",
       "Name: Species, dtype: int32"
      ]
     },
     "execution_count": 11,
     "metadata": {},
     "output_type": "execute_result"
    }
   ],
   "source": [
    "y.head()"
   ]
  },
  {
   "cell_type": "code",
   "execution_count": 12,
   "id": "1f579c6c",
   "metadata": {},
   "outputs": [
    {
     "data": {
      "text/plain": [
       "0    50\n",
       "1    50\n",
       "2    50\n",
       "Name: Species, dtype: int64"
      ]
     },
     "execution_count": 12,
     "metadata": {},
     "output_type": "execute_result"
    }
   ],
   "source": [
    "y.value_counts()"
   ]
  },
  {
   "cell_type": "code",
   "execution_count": 13,
   "id": "858543db",
   "metadata": {},
   "outputs": [],
   "source": [
    "X_train,X_test,y_train,y_test = train_test_split(X,y,test_size=0.25,shuffle=True,random_state=7)"
   ]
  },
  {
   "cell_type": "code",
   "execution_count": 14,
   "id": "3c16444d",
   "metadata": {},
   "outputs": [
    {
     "data": {
      "text/plain": [
       "(112, 4)"
      ]
     },
     "execution_count": 14,
     "metadata": {},
     "output_type": "execute_result"
    }
   ],
   "source": [
    "X_train.shape"
   ]
  },
  {
   "cell_type": "code",
   "execution_count": 15,
   "id": "427a8233",
   "metadata": {},
   "outputs": [
    {
     "data": {
      "text/plain": [
       "(150, 6)"
      ]
     },
     "execution_count": 15,
     "metadata": {},
     "output_type": "execute_result"
    }
   ],
   "source": [
    "df.shape"
   ]
  },
  {
   "cell_type": "code",
   "execution_count": 16,
   "id": "fc9eb257",
   "metadata": {},
   "outputs": [],
   "source": [
    "sc = StandardScaler()\n",
    "X_train = sc.fit_transform(X_train)\n",
    "X_test = sc.transform(X_test)"
   ]
  },
  {
   "cell_type": "code",
   "execution_count": 17,
   "id": "a49dbb76",
   "metadata": {},
   "outputs": [
    {
     "data": {
      "text/plain": [
       "array([[-0.87222549,  1.03373066, -1.29757475, -1.14224315],\n",
       "       [ 1.47325482, -0.11714244,  1.21000835,  1.18377926],\n",
       "       [ 1.00415875,  0.57338142,  1.09856022,  1.18377926],\n",
       "       [ 1.12143277, -0.57749168,  0.5970436 ,  0.27921499],\n",
       "       [ 0.65233671, -0.57749168,  1.04283615,  1.31300273],\n",
       "       [ 0.76961072, -0.11714244,  0.98711208,  0.79610886],\n",
       "       [-0.1685814 , -0.11714244,  0.26269918,  0.02076806],\n",
       "       [-0.9894995 ,  0.57338142, -1.29757475, -1.27146661],\n",
       "       [ 1.00415875,  0.11303218,  0.37414732,  0.27921499],\n",
       "       [ 0.18324065, -1.95853941,  0.15125104, -0.23767888],\n",
       "       [ 0.65233671, -0.8076663 ,  0.87566394,  0.92533233],\n",
       "       [-1.34132155,  0.3432068 , -1.18612661, -1.27146661],\n",
       "       [-1.45859556,  0.11303218, -1.24185068, -1.27146661],\n",
       "       [-0.87222549,  0.80355604, -1.24185068, -1.27146661],\n",
       "       [ 2.17689891,  1.72425453,  1.6558009 ,  1.31300273],\n",
       "       [-1.81041761, -0.11714244, -1.46474695, -1.40069008],\n",
       "       [ 0.53506269,  0.57338142,  1.26573242,  1.70067313],\n",
       "       [-0.40312943, -1.49819017, -0.01592116, -0.23767888],\n",
       "       [-0.9894995 , -2.41888865, -0.1273693 , -0.23767888],\n",
       "       [ 0.76961072, -0.57749168,  0.48559546,  0.40843846],\n",
       "       [-0.9894995 ,  0.80355604, -1.18612661, -1.01301968],\n",
       "       [-1.69314359, -0.34731706, -1.29757475, -1.27146661],\n",
       "       [-0.9894995 ,  1.03373066, -1.18612661, -0.75457275],\n",
       "       [ 1.00415875,  0.11303218,  0.54131953,  0.40843846],\n",
       "       [ 1.70780285, -0.34731706,  1.43290463,  0.79610886],\n",
       "       [-0.40312943, -1.03784093,  0.37414732,  0.02076806],\n",
       "       [-0.75495147, -0.8076663 ,  0.09552698,  0.27921499],\n",
       "       [-0.1685814 ,  3.10530225, -1.24185068, -1.01301968],\n",
       "       [ 1.59052883,  0.3432068 ,  1.26573242,  0.79610886],\n",
       "       [-0.52040344,  0.80355604, -1.13040254, -1.27146661],\n",
       "       [-0.05130738,  2.18460377, -1.40902288, -1.27146661],\n",
       "       [ 0.30051466, -1.03784093,  1.04283615,  0.27921499],\n",
       "       [-0.1685814 , -1.26801555,  0.70849173,  1.05455579],\n",
       "       [-1.22404753, -0.11714244, -1.29757475, -1.40069008],\n",
       "       [ 0.76961072, -0.11714244,  1.15428428,  1.31300273],\n",
       "       [-1.45859556,  0.3432068 , -1.29757475, -1.27146661],\n",
       "       [ 0.88688474, -0.34731706,  0.48559546,  0.14999152],\n",
       "       [ 1.00415875, -0.11714244,  0.81993987,  1.4422262 ],\n",
       "       [ 0.30051466, -0.11714244,  0.48559546,  0.27921499],\n",
       "       [-0.1685814 ,  1.72425453, -1.13040254, -1.14224315],\n",
       "       [ 1.3559808 ,  0.3432068 ,  0.54131953,  0.27921499],\n",
       "       [-1.34132155,  0.3432068 , -1.35329882, -1.27146661],\n",
       "       [ 0.76961072, -0.11714244,  0.81993987,  1.05455579],\n",
       "       [ 2.17689891, -1.03784093,  1.76724904,  1.4422262 ],\n",
       "       [-1.10677352, -1.49819017, -0.23881744, -0.23767888],\n",
       "       [-1.22404753,  0.11303218, -1.18612661, -1.27146661],\n",
       "       [-0.40312943,  2.64495301, -1.29757475, -1.27146661],\n",
       "       [-0.28585541, -0.11714244,  0.20697511,  0.14999152],\n",
       "       [ 0.65233671,  0.3432068 ,  0.87566394,  1.4422262 ],\n",
       "       [-0.75495147,  1.03373066, -1.24185068, -1.27146661],\n",
       "       [ 2.41144694,  1.72425453,  1.4886287 ,  1.05455579],\n",
       "       [-0.05130738, -0.57749168,  0.7642158 ,  1.57144966],\n",
       "       [-0.1685814 , -0.34731706,  0.26269918,  0.14999152],\n",
       "       [-0.87222549,  1.49407991, -1.24185068, -1.01301968],\n",
       "       [-0.87222549, -1.26801555, -0.40598964, -0.10845541],\n",
       "       [-0.9894995 ,  0.80355604, -1.24185068, -1.27146661],\n",
       "       [ 2.17689891, -0.57749168,  1.6558009 ,  1.05455579],\n",
       "       [ 2.05962489, -0.11714244,  1.60007684,  1.18377926],\n",
       "       [-0.9894995 ,  0.3432068 , -1.40902288, -1.27146661],\n",
       "       [-0.52040344,  1.49407991, -1.24185068, -1.27146661],\n",
       "       [ 1.00415875,  0.57338142,  1.09856022,  1.70067313],\n",
       "       [ 0.30051466, -0.57749168,  0.15125104,  0.14999152],\n",
       "       [ 0.53506269, -1.26801555,  0.70849173,  0.92533233],\n",
       "       [ 1.82507686, -0.57749168,  1.32145649,  0.92533233],\n",
       "       [-0.9894995 , -1.72836479, -0.23881744, -0.23767888],\n",
       "       [-0.52040344,  0.80355604, -1.24185068, -1.01301968],\n",
       "       [-0.52040344,  1.95442915, -1.35329882, -1.01301968],\n",
       "       [-0.28585541, -0.57749168,  0.65276766,  1.05455579],\n",
       "       [-1.10677352, -0.11714244, -1.29757475, -1.27146661],\n",
       "       [-0.63767746,  1.49407991, -1.24185068, -1.27146661],\n",
       "       [ 0.18324065, -0.8076663 ,  0.7642158 ,  0.53766193],\n",
       "       [ 1.12143277,  0.3432068 ,  1.21000835,  1.4422262 ],\n",
       "       [ 0.41778868,  0.80355604,  0.93138801,  1.4422262 ],\n",
       "       [-0.1685814 , -0.57749168,  0.20697511,  0.14999152],\n",
       "       [ 0.53506269, -1.72836479,  0.37414732,  0.14999152],\n",
       "       [-1.10677352,  0.11303218, -1.24185068, -1.40069008],\n",
       "       [ 1.23870678,  0.11303218,  0.7642158 ,  1.4422262 ],\n",
       "       [-0.9894995 ,  1.26390529, -1.29757475, -1.27146661],\n",
       "       [-1.69314359, -0.11714244, -1.35329882, -1.27146661],\n",
       "       [ 0.18324065, -0.34731706,  0.42987139,  0.40843846],\n",
       "       [ 0.30051466, -0.57749168,  0.54131953,  0.02076806],\n",
       "       [ 0.65233671, -0.57749168,  1.04283615,  1.18377926],\n",
       "       [-1.10677352,  0.11303218, -1.24185068, -1.40069008],\n",
       "       [-0.28585541, -0.34731706, -0.07164523,  0.14999152],\n",
       "       [ 0.06596663, -0.11714244,  0.26269918,  0.40843846],\n",
       "       [ 0.53506269, -0.8076663 ,  0.65276766,  0.79610886],\n",
       "       [ 1.12143277, -0.11714244,  0.98711208,  1.18377926],\n",
       "       [-0.40312943, -1.72836479,  0.15125104,  0.14999152],\n",
       "       [ 0.53506269, -0.57749168,  0.7642158 ,  0.40843846],\n",
       "       [-1.22404753,  0.80355604, -1.0189544 , -1.27146661],\n",
       "       [ 0.53506269,  0.57338142,  0.54131953,  0.53766193],\n",
       "       [-0.28585541, -1.26801555,  0.09552698, -0.10845541],\n",
       "       [-0.87222549,  1.72425453, -1.0189544 , -1.01301968],\n",
       "       [-0.87222549,  1.72425453, -1.24185068, -1.14224315],\n",
       "       [-1.45859556,  0.80355604, -1.29757475, -1.14224315],\n",
       "       [-0.1685814 , -0.57749168,  0.42987139,  0.14999152],\n",
       "       [ 0.88688474, -0.11714244,  0.37414732,  0.27921499],\n",
       "       [-0.87222549,  1.03373066, -1.29757475, -1.27146661],\n",
       "       [ 2.17689891, -0.11714244,  1.32145649,  1.4422262 ],\n",
       "       [ 0.30051466, -0.11714244,  0.65276766,  0.79610886],\n",
       "       [ 0.41778868, -1.95853941,  0.42987139,  0.40843846],\n",
       "       [ 0.53506269,  0.80355604,  1.04283615,  1.57144966],\n",
       "       [-1.69314359,  0.3432068 , -1.35329882, -1.27146661],\n",
       "       [ 0.76961072,  0.3432068 ,  0.7642158 ,  1.05455579],\n",
       "       [-0.40312943, -1.26801555,  0.15125104,  0.14999152],\n",
       "       [ 0.53506269, -1.26801555,  0.65276766,  0.40843846],\n",
       "       [-0.87222549,  0.57338142, -1.13040254, -0.88379621],\n",
       "       [-0.05130738, -0.8076663 ,  0.7642158 ,  0.92533233],\n",
       "       [-0.05130738, -1.03784093,  0.15125104,  0.02076806],\n",
       "       [ 0.53506269, -0.34731706,  1.04283615,  0.79610886],\n",
       "       [-0.05130738, -0.8076663 ,  0.20697511, -0.23767888],\n",
       "       [-0.9894995 , -0.11714244, -1.18612661, -1.27146661]])"
      ]
     },
     "execution_count": 17,
     "metadata": {},
     "output_type": "execute_result"
    }
   ],
   "source": [
    "X_train"
   ]
  },
  {
   "cell_type": "code",
   "execution_count": 18,
   "id": "acf603fe",
   "metadata": {},
   "outputs": [],
   "source": [
    "y_train = tf.keras.utils.to_categorical(y_train,num_classes=3)"
   ]
  },
  {
   "cell_type": "code",
   "execution_count": 19,
   "id": "ebdae8a1",
   "metadata": {},
   "outputs": [
    {
     "data": {
      "text/plain": [
       "array([[1., 0., 0.],\n",
       "       [0., 0., 1.],\n",
       "       [0., 0., 1.],\n",
       "       [0., 1., 0.],\n",
       "       [0., 0., 1.]], dtype=float32)"
      ]
     },
     "execution_count": 19,
     "metadata": {},
     "output_type": "execute_result"
    }
   ],
   "source": [
    "y_train[:5]"
   ]
  },
  {
   "cell_type": "code",
   "execution_count": 20,
   "id": "fc34f39a",
   "metadata": {},
   "outputs": [],
   "source": [
    "def get_models():\n",
    "    model = Sequential([\n",
    "        Dense(units=32,input_shape=(4,),activation='relu'),\n",
    "        Dense(units=32,activation='relu'),\n",
    "        Dropout(0.5),\n",
    "        Dense(units=3,activation='softmax')\n",
    "    ])\n",
    "    \n",
    "    return model"
   ]
  },
  {
   "cell_type": "code",
   "execution_count": 21,
   "id": "dd31f04e",
   "metadata": {},
   "outputs": [
    {
     "name": "stdout",
     "output_type": "stream",
     "text": [
      "WARNING:tensorflow:From C:\\Users\\Pranav\\anaconda3\\lib\\site-packages\\keras\\src\\backend.py:873: The name tf.get_default_graph is deprecated. Please use tf.compat.v1.get_default_graph instead.\n",
      "\n",
      "WARNING:tensorflow:From C:\\Users\\Pranav\\anaconda3\\lib\\site-packages\\keras\\src\\optimizers\\__init__.py:309: The name tf.train.Optimizer is deprecated. Please use tf.compat.v1.train.Optimizer instead.\n",
      "\n",
      "Model: \"sequential\"\n",
      "_________________________________________________________________\n",
      " Layer (type)                Output Shape              Param #   \n",
      "=================================================================\n",
      " dense (Dense)               (None, 32)                160       \n",
      "                                                                 \n",
      " dense_1 (Dense)             (None, 32)                1056      \n",
      "                                                                 \n",
      " dropout (Dropout)           (None, 32)                0         \n",
      "                                                                 \n",
      " dense_2 (Dense)             (None, 3)                 99        \n",
      "                                                                 \n",
      "=================================================================\n",
      "Total params: 1315 (5.14 KB)\n",
      "Trainable params: 1315 (5.14 KB)\n",
      "Non-trainable params: 0 (0.00 Byte)\n",
      "_________________________________________________________________\n"
     ]
    }
   ],
   "source": [
    "model = get_models()\n",
    "model.compile(optimizer='Adam',loss='categorical_crossentropy',metrics=['accuracy'])\n",
    "model.summary()"
   ]
  },
  {
   "cell_type": "code",
   "execution_count": 22,
   "id": "13cb6d39",
   "metadata": {},
   "outputs": [
    {
     "name": "stdout",
     "output_type": "stream",
     "text": [
      "Epoch 1/100\n",
      "WARNING:tensorflow:From C:\\Users\\Pranav\\anaconda3\\lib\\site-packages\\keras\\src\\utils\\tf_utils.py:492: The name tf.ragged.RaggedTensorValue is deprecated. Please use tf.compat.v1.ragged.RaggedTensorValue instead.\n",
      "\n",
      "WARNING:tensorflow:From C:\\Users\\Pranav\\anaconda3\\lib\\site-packages\\keras\\src\\engine\\base_layer_utils.py:384: The name tf.executing_eagerly_outside_functions is deprecated. Please use tf.compat.v1.executing_eagerly_outside_functions instead.\n",
      "\n",
      "4/4 - 5s - loss: 1.1782 - accuracy: 0.4286 - 5s/epoch - 1s/step\n",
      "Epoch 2/100\n",
      "4/4 - 0s - loss: 1.1002 - accuracy: 0.4643 - 57ms/epoch - 14ms/step\n",
      "Epoch 3/100\n",
      "4/4 - 0s - loss: 0.9784 - accuracy: 0.5982 - 53ms/epoch - 13ms/step\n",
      "Epoch 4/100\n",
      "4/4 - 0s - loss: 0.9555 - accuracy: 0.5446 - 50ms/epoch - 13ms/step\n",
      "Epoch 5/100\n",
      "4/4 - 0s - loss: 0.9473 - accuracy: 0.5357 - 37ms/epoch - 9ms/step\n",
      "Epoch 6/100\n",
      "4/4 - 0s - loss: 0.8396 - accuracy: 0.6429 - 41ms/epoch - 10ms/step\n",
      "Epoch 7/100\n",
      "4/4 - 0s - loss: 0.8038 - accuracy: 0.7321 - 44ms/epoch - 11ms/step\n",
      "Epoch 8/100\n",
      "4/4 - 0s - loss: 0.7802 - accuracy: 0.6696 - 49ms/epoch - 12ms/step\n",
      "Epoch 9/100\n",
      "4/4 - 0s - loss: 0.7003 - accuracy: 0.8036 - 49ms/epoch - 12ms/step\n",
      "Epoch 10/100\n",
      "4/4 - 0s - loss: 0.6737 - accuracy: 0.7589 - 34ms/epoch - 8ms/step\n",
      "Epoch 11/100\n",
      "4/4 - 0s - loss: 0.6524 - accuracy: 0.7768 - 38ms/epoch - 10ms/step\n",
      "Epoch 12/100\n",
      "4/4 - 0s - loss: 0.5867 - accuracy: 0.8125 - 42ms/epoch - 10ms/step\n",
      "Epoch 13/100\n",
      "4/4 - 0s - loss: 0.5898 - accuracy: 0.8304 - 38ms/epoch - 10ms/step\n",
      "Epoch 14/100\n",
      "4/4 - 0s - loss: 0.5390 - accuracy: 0.8036 - 50ms/epoch - 12ms/step\n",
      "Epoch 15/100\n",
      "4/4 - 0s - loss: 0.5324 - accuracy: 0.8571 - 66ms/epoch - 17ms/step\n",
      "Epoch 16/100\n",
      "4/4 - 0s - loss: 0.5900 - accuracy: 0.8304 - 72ms/epoch - 18ms/step\n",
      "Epoch 17/100\n",
      "4/4 - 0s - loss: 0.4940 - accuracy: 0.8571 - 68ms/epoch - 17ms/step\n",
      "Epoch 18/100\n",
      "4/4 - 0s - loss: 0.4435 - accuracy: 0.8839 - 80ms/epoch - 20ms/step\n",
      "Epoch 19/100\n",
      "4/4 - 0s - loss: 0.4923 - accuracy: 0.8036 - 64ms/epoch - 16ms/step\n",
      "Epoch 20/100\n",
      "4/4 - 0s - loss: 0.4361 - accuracy: 0.8661 - 55ms/epoch - 14ms/step\n",
      "Epoch 21/100\n",
      "4/4 - 0s - loss: 0.4053 - accuracy: 0.8929 - 74ms/epoch - 18ms/step\n",
      "Epoch 22/100\n",
      "4/4 - 0s - loss: 0.3677 - accuracy: 0.9107 - 73ms/epoch - 18ms/step\n",
      "Epoch 23/100\n",
      "4/4 - 0s - loss: 0.3815 - accuracy: 0.8929 - 57ms/epoch - 14ms/step\n",
      "Epoch 24/100\n",
      "4/4 - 0s - loss: 0.3977 - accuracy: 0.8839 - 53ms/epoch - 13ms/step\n",
      "Epoch 25/100\n",
      "4/4 - 0s - loss: 0.3562 - accuracy: 0.8929 - 50ms/epoch - 12ms/step\n",
      "Epoch 26/100\n",
      "4/4 - 0s - loss: 0.3633 - accuracy: 0.8482 - 74ms/epoch - 19ms/step\n",
      "Epoch 27/100\n",
      "4/4 - 0s - loss: 0.3332 - accuracy: 0.9018 - 95ms/epoch - 24ms/step\n",
      "Epoch 28/100\n",
      "4/4 - 0s - loss: 0.3346 - accuracy: 0.9107 - 89ms/epoch - 22ms/step\n",
      "Epoch 29/100\n",
      "4/4 - 0s - loss: 0.2984 - accuracy: 0.9107 - 72ms/epoch - 18ms/step\n",
      "Epoch 30/100\n",
      "4/4 - 0s - loss: 0.3270 - accuracy: 0.8929 - 59ms/epoch - 15ms/step\n",
      "Epoch 31/100\n",
      "4/4 - 0s - loss: 0.2801 - accuracy: 0.9196 - 48ms/epoch - 12ms/step\n",
      "Epoch 32/100\n",
      "4/4 - 0s - loss: 0.2626 - accuracy: 0.9196 - 53ms/epoch - 13ms/step\n",
      "Epoch 33/100\n",
      "4/4 - 0s - loss: 0.2881 - accuracy: 0.9018 - 51ms/epoch - 13ms/step\n",
      "Epoch 34/100\n",
      "4/4 - 0s - loss: 0.2844 - accuracy: 0.8929 - 40ms/epoch - 10ms/step\n",
      "Epoch 35/100\n",
      "4/4 - 0s - loss: 0.2934 - accuracy: 0.8839 - 52ms/epoch - 13ms/step\n",
      "Epoch 36/100\n",
      "4/4 - 0s - loss: 0.2594 - accuracy: 0.9107 - 53ms/epoch - 13ms/step\n",
      "Epoch 37/100\n",
      "4/4 - 0s - loss: 0.2733 - accuracy: 0.9107 - 52ms/epoch - 13ms/step\n",
      "Epoch 38/100\n",
      "4/4 - 0s - loss: 0.2630 - accuracy: 0.9107 - 76ms/epoch - 19ms/step\n",
      "Epoch 39/100\n",
      "4/4 - 0s - loss: 0.3135 - accuracy: 0.8661 - 87ms/epoch - 22ms/step\n",
      "Epoch 40/100\n",
      "4/4 - 0s - loss: 0.2789 - accuracy: 0.9107 - 68ms/epoch - 17ms/step\n",
      "Epoch 41/100\n",
      "4/4 - 0s - loss: 0.2800 - accuracy: 0.9196 - 68ms/epoch - 17ms/step\n",
      "Epoch 42/100\n",
      "4/4 - 0s - loss: 0.2384 - accuracy: 0.9107 - 64ms/epoch - 16ms/step\n",
      "Epoch 43/100\n",
      "4/4 - 0s - loss: 0.2459 - accuracy: 0.9196 - 59ms/epoch - 15ms/step\n",
      "Epoch 44/100\n",
      "4/4 - 0s - loss: 0.2238 - accuracy: 0.9018 - 46ms/epoch - 11ms/step\n",
      "Epoch 45/100\n",
      "4/4 - 0s - loss: 0.2325 - accuracy: 0.9286 - 53ms/epoch - 13ms/step\n",
      "Epoch 46/100\n",
      "4/4 - 0s - loss: 0.2162 - accuracy: 0.8839 - 51ms/epoch - 13ms/step\n",
      "Epoch 47/100\n",
      "4/4 - 0s - loss: 0.2351 - accuracy: 0.9107 - 86ms/epoch - 22ms/step\n",
      "Epoch 48/100\n",
      "4/4 - 0s - loss: 0.2048 - accuracy: 0.9643 - 70ms/epoch - 17ms/step\n",
      "Epoch 49/100\n",
      "4/4 - 0s - loss: 0.2232 - accuracy: 0.9107 - 81ms/epoch - 20ms/step\n",
      "Epoch 50/100\n",
      "4/4 - 0s - loss: 0.1856 - accuracy: 0.9286 - 68ms/epoch - 17ms/step\n",
      "Epoch 51/100\n",
      "4/4 - 0s - loss: 0.2186 - accuracy: 0.9196 - 65ms/epoch - 16ms/step\n",
      "Epoch 52/100\n",
      "4/4 - 0s - loss: 0.2088 - accuracy: 0.9286 - 60ms/epoch - 15ms/step\n",
      "Epoch 53/100\n",
      "4/4 - 0s - loss: 0.1929 - accuracy: 0.9554 - 59ms/epoch - 15ms/step\n",
      "Epoch 54/100\n",
      "4/4 - 0s - loss: 0.1902 - accuracy: 0.9286 - 70ms/epoch - 18ms/step\n",
      "Epoch 55/100\n",
      "4/4 - 0s - loss: 0.1862 - accuracy: 0.9286 - 72ms/epoch - 18ms/step\n",
      "Epoch 56/100\n",
      "4/4 - 0s - loss: 0.1766 - accuracy: 0.9464 - 134ms/epoch - 33ms/step\n",
      "Epoch 57/100\n",
      "4/4 - 0s - loss: 0.1816 - accuracy: 0.9464 - 61ms/epoch - 15ms/step\n",
      "Epoch 58/100\n",
      "4/4 - 0s - loss: 0.1762 - accuracy: 0.9286 - 55ms/epoch - 14ms/step\n",
      "Epoch 59/100\n",
      "4/4 - 0s - loss: 0.1832 - accuracy: 0.9286 - 55ms/epoch - 14ms/step\n",
      "Epoch 60/100\n",
      "4/4 - 0s - loss: 0.2117 - accuracy: 0.8750 - 39ms/epoch - 10ms/step\n",
      "Epoch 61/100\n",
      "4/4 - 0s - loss: 0.1713 - accuracy: 0.9196 - 45ms/epoch - 11ms/step\n",
      "Epoch 62/100\n",
      "4/4 - 0s - loss: 0.1617 - accuracy: 0.9643 - 46ms/epoch - 11ms/step\n",
      "Epoch 63/100\n",
      "4/4 - 0s - loss: 0.1704 - accuracy: 0.9375 - 42ms/epoch - 10ms/step\n",
      "Epoch 64/100\n",
      "4/4 - 0s - loss: 0.1603 - accuracy: 0.9464 - 30ms/epoch - 8ms/step\n",
      "Epoch 65/100\n",
      "4/4 - 0s - loss: 0.1135 - accuracy: 0.9821 - 33ms/epoch - 8ms/step\n",
      "Epoch 66/100\n",
      "4/4 - 0s - loss: 0.1397 - accuracy: 0.9554 - 29ms/epoch - 7ms/step\n",
      "Epoch 67/100\n",
      "4/4 - 0s - loss: 0.1588 - accuracy: 0.9286 - 38ms/epoch - 9ms/step\n",
      "Epoch 68/100\n",
      "4/4 - 0s - loss: 0.1479 - accuracy: 0.9554 - 27ms/epoch - 7ms/step\n",
      "Epoch 69/100\n",
      "4/4 - 0s - loss: 0.1343 - accuracy: 0.9732 - 24ms/epoch - 6ms/step\n",
      "Epoch 70/100\n",
      "4/4 - 0s - loss: 0.1274 - accuracy: 0.9732 - 24ms/epoch - 6ms/step\n",
      "Epoch 71/100\n",
      "4/4 - 0s - loss: 0.1302 - accuracy: 0.9643 - 27ms/epoch - 7ms/step\n",
      "Epoch 72/100\n",
      "4/4 - 0s - loss: 0.1095 - accuracy: 0.9732 - 26ms/epoch - 6ms/step\n",
      "Epoch 73/100\n",
      "4/4 - 0s - loss: 0.1321 - accuracy: 0.9554 - 34ms/epoch - 8ms/step\n",
      "Epoch 74/100\n",
      "4/4 - 0s - loss: 0.1448 - accuracy: 0.9464 - 31ms/epoch - 8ms/step\n",
      "Epoch 75/100\n",
      "4/4 - 0s - loss: 0.1584 - accuracy: 0.9554 - 26ms/epoch - 6ms/step\n",
      "Epoch 76/100\n",
      "4/4 - 0s - loss: 0.1107 - accuracy: 0.9821 - 31ms/epoch - 8ms/step\n",
      "Epoch 77/100\n",
      "4/4 - 0s - loss: 0.1186 - accuracy: 0.9732 - 25ms/epoch - 6ms/step\n",
      "Epoch 78/100\n",
      "4/4 - 0s - loss: 0.1229 - accuracy: 0.9464 - 23ms/epoch - 6ms/step\n",
      "Epoch 79/100\n",
      "4/4 - 0s - loss: 0.1156 - accuracy: 0.9643 - 26ms/epoch - 7ms/step\n",
      "Epoch 80/100\n",
      "4/4 - 0s - loss: 0.1300 - accuracy: 0.9375 - 40ms/epoch - 10ms/step\n",
      "Epoch 81/100\n",
      "4/4 - 0s - loss: 0.1264 - accuracy: 0.9643 - 47ms/epoch - 12ms/step\n",
      "Epoch 82/100\n",
      "4/4 - 0s - loss: 0.1146 - accuracy: 0.9643 - 48ms/epoch - 12ms/step\n",
      "Epoch 83/100\n",
      "4/4 - 0s - loss: 0.1252 - accuracy: 0.9464 - 38ms/epoch - 9ms/step\n",
      "Epoch 84/100\n",
      "4/4 - 0s - loss: 0.1345 - accuracy: 0.9554 - 32ms/epoch - 8ms/step\n",
      "Epoch 85/100\n",
      "4/4 - 0s - loss: 0.1097 - accuracy: 0.9643 - 33ms/epoch - 8ms/step\n",
      "Epoch 86/100\n",
      "4/4 - 0s - loss: 0.1321 - accuracy: 0.9464 - 37ms/epoch - 9ms/step\n",
      "Epoch 87/100\n",
      "4/4 - 0s - loss: 0.1459 - accuracy: 0.9375 - 36ms/epoch - 9ms/step\n",
      "Epoch 88/100\n",
      "4/4 - 0s - loss: 0.0881 - accuracy: 0.9643 - 43ms/epoch - 11ms/step\n",
      "Epoch 89/100\n",
      "4/4 - 0s - loss: 0.1113 - accuracy: 0.9554 - 100ms/epoch - 25ms/step\n",
      "Epoch 90/100\n",
      "4/4 - 0s - loss: 0.0996 - accuracy: 0.9821 - 98ms/epoch - 25ms/step\n",
      "Epoch 91/100\n",
      "4/4 - 0s - loss: 0.1017 - accuracy: 0.9732 - 84ms/epoch - 21ms/step\n",
      "Epoch 92/100\n",
      "4/4 - 0s - loss: 0.0728 - accuracy: 0.9911 - 76ms/epoch - 19ms/step\n",
      "Epoch 93/100\n",
      "4/4 - 0s - loss: 0.0766 - accuracy: 0.9911 - 68ms/epoch - 17ms/step\n",
      "Epoch 94/100\n",
      "4/4 - 0s - loss: 0.1205 - accuracy: 0.9554 - 73ms/epoch - 18ms/step\n",
      "Epoch 95/100\n",
      "4/4 - 0s - loss: 0.1079 - accuracy: 0.9732 - 72ms/epoch - 18ms/step\n",
      "Epoch 96/100\n",
      "4/4 - 0s - loss: 0.0796 - accuracy: 0.9732 - 73ms/epoch - 18ms/step\n"
     ]
    },
    {
     "name": "stdout",
     "output_type": "stream",
     "text": [
      "Epoch 97/100\n",
      "4/4 - 0s - loss: 0.1015 - accuracy: 0.9643 - 77ms/epoch - 19ms/step\n",
      "Epoch 98/100\n",
      "4/4 - 0s - loss: 0.1026 - accuracy: 0.9643 - 82ms/epoch - 20ms/step\n",
      "Epoch 99/100\n",
      "4/4 - 0s - loss: 0.0908 - accuracy: 0.9911 - 60ms/epoch - 15ms/step\n",
      "Epoch 100/100\n",
      "4/4 - 0s - loss: 0.0764 - accuracy: 0.9821 - 44ms/epoch - 11ms/step\n"
     ]
    },
    {
     "data": {
      "text/plain": [
       "<keras.src.callbacks.History at 0x1cefd15e9e0>"
      ]
     },
     "execution_count": 22,
     "metadata": {},
     "output_type": "execute_result"
    }
   ],
   "source": [
    "model.fit(X_train,y_train,epochs=100, verbose=2)"
   ]
  },
  {
   "cell_type": "code",
   "execution_count": 23,
   "id": "0ef6d661",
   "metadata": {},
   "outputs": [
    {
     "name": "stdout",
     "output_type": "stream",
     "text": [
      "2/2 [==============================] - 0s 11ms/step\n"
     ]
    }
   ],
   "source": [
    "prediction = model.predict(X_test)"
   ]
  },
  {
   "cell_type": "code",
   "execution_count": 25,
   "id": "43833f01",
   "metadata": {},
   "outputs": [
    {
     "data": {
      "text/plain": [
       "array([[3.44246184e-03, 7.00593516e-02, 9.26498294e-01],\n",
       "       [4.33081724e-02, 7.43271530e-01, 2.13420242e-01],\n",
       "       [9.99920607e-01, 5.95568781e-05, 1.98293874e-05],\n",
       "       [3.23287509e-02, 6.95189893e-01, 2.72481382e-01],\n",
       "       [3.57953552e-03, 8.72883141e-01, 1.23537295e-01],\n",
       "       [2.67181516e-01, 7.32589424e-01, 2.29085868e-04],\n",
       "       [7.10327597e-03, 7.55987048e-01, 2.36909643e-01],\n",
       "       [4.86757327e-03, 9.78542447e-01, 1.65900178e-02],\n",
       "       [9.99895930e-01, 8.30108911e-05, 2.10411872e-05],\n",
       "       [2.53647640e-02, 7.75089979e-01, 1.99545339e-01],\n",
       "       [3.09623801e-03, 2.46498495e-01, 7.50405252e-01],\n",
       "       [1.15238674e-01, 5.91247916e-01, 2.93513328e-01],\n",
       "       [9.99987960e-01, 6.84595898e-06, 5.19166770e-06],\n",
       "       [5.87773284e-05, 3.28474189e-03, 9.96656418e-01],\n",
       "       [9.99842525e-01, 1.24503727e-04, 3.28927235e-05],\n",
       "       [1.48786483e-02, 1.67244107e-01, 8.17877173e-01],\n",
       "       [1.05387859e-04, 5.64445034e-02, 9.43450093e-01],\n",
       "       [1.41245674e-03, 4.12341058e-02, 9.57353473e-01],\n",
       "       [9.99959826e-01, 2.63666043e-05, 1.38680916e-05],\n",
       "       [9.99627829e-01, 3.38458776e-04, 3.36775920e-05],\n",
       "       [3.92667996e-03, 9.87824678e-01, 8.24866164e-03],\n",
       "       [6.38460042e-05, 4.86585731e-03, 9.95070338e-01],\n",
       "       [1.08076967e-02, 8.06249559e-01, 1.82942733e-01],\n",
       "       [1.96483641e-04, 9.41570938e-01, 5.82326092e-02],\n",
       "       [1.16139208e-03, 2.05688104e-01, 7.93150604e-01],\n",
       "       [4.35075630e-03, 8.84092823e-02, 9.07240033e-01],\n",
       "       [9.51344054e-03, 9.42293763e-01, 4.81928140e-02],\n",
       "       [5.52200188e-04, 9.98234868e-01, 1.21292996e-03],\n",
       "       [6.80903555e-04, 4.53744382e-02, 9.53944564e-01],\n",
       "       [3.37210513e-05, 3.26062483e-03, 9.96705592e-01],\n",
       "       [1.58396934e-03, 1.04279011e-01, 8.94137084e-01],\n",
       "       [1.94710295e-03, 9.95862365e-01, 2.19051982e-03],\n",
       "       [9.99986172e-01, 1.04140045e-05, 3.51281437e-06],\n",
       "       [1.90620660e-04, 1.26575641e-02, 9.87151861e-01],\n",
       "       [7.31579028e-03, 9.48709369e-01, 4.39747833e-02],\n",
       "       [9.99245882e-01, 7.05656188e-04, 4.84683296e-05],\n",
       "       [9.99838948e-01, 1.21788638e-04, 3.91639624e-05],\n",
       "       [9.99911308e-01, 5.16600958e-05, 3.70386551e-05]], dtype=float32)"
      ]
     },
     "execution_count": 25,
     "metadata": {},
     "output_type": "execute_result"
    }
   ],
   "source": [
    "prediction"
   ]
  },
  {
   "cell_type": "code",
   "execution_count": 30,
   "id": "b40d1632",
   "metadata": {},
   "outputs": [],
   "source": [
    "prediction = np.argmax(prediction,axis=-1)"
   ]
  },
  {
   "cell_type": "code",
   "execution_count": 31,
   "id": "f9aba9c6",
   "metadata": {},
   "outputs": [
    {
     "data": {
      "text/plain": [
       "array([2, 1, 0, 1, 1, 1, 1, 1, 0, 1, 2, 1, 0, 2, 0, 2, 2, 2, 0, 0, 1, 2,\n",
       "       1, 1, 2, 2, 1, 1, 2, 2, 2, 1, 0, 2, 1, 0, 0, 0], dtype=int64)"
      ]
     },
     "execution_count": 31,
     "metadata": {},
     "output_type": "execute_result"
    }
   ],
   "source": [
    "prediction"
   ]
  },
  {
   "cell_type": "code",
   "execution_count": 32,
   "id": "9994184a",
   "metadata": {},
   "outputs": [
    {
     "data": {
      "text/plain": [
       "149    2\n",
       "84     1\n",
       "40     0\n",
       "66     1\n",
       "106    2\n",
       "41     0\n",
       "52     1\n",
       "94     1\n",
       "11     0\n",
       "51     1\n",
       "77     1\n",
       "85     1\n",
       "32     0\n",
       "109    2\n",
       "28     0\n",
       "70     1\n",
       "108    2\n",
       "137    2\n",
       "46     0\n",
       "37     0\n",
       "82     1\n",
       "120    2\n",
       "63     1\n",
       "119    2\n",
       "129    2\n",
       "138    2\n",
       "97     1\n",
       "80     1\n",
       "101    2\n",
       "140    2\n",
       "126    2\n",
       "79     1\n",
       "22     0\n",
       "139    2\n",
       "74     1\n",
       "45     0\n",
       "36     0\n",
       "5      0\n",
       "Name: Species, dtype: int32"
      ]
     },
     "execution_count": 32,
     "metadata": {},
     "output_type": "execute_result"
    }
   ],
   "source": [
    "y_test"
   ]
  },
  {
   "cell_type": "code",
   "execution_count": 38,
   "id": "a4bc8cc8",
   "metadata": {},
   "outputs": [
    {
     "data": {
      "text/plain": [
       "0.868421052631579"
      ]
     },
     "execution_count": 38,
     "metadata": {},
     "output_type": "execute_result"
    }
   ],
   "source": [
    "acury = accuracy_score(y_test,prediction)\n",
    "acury"
   ]
  },
  {
   "cell_type": "code",
   "execution_count": 39,
   "id": "738e6c05",
   "metadata": {},
   "outputs": [
    {
     "data": {
      "text/plain": [
       "array([[10,  1,  0],\n",
       "       [ 0, 12,  2],\n",
       "       [ 0,  2, 11]], dtype=int64)"
      ]
     },
     "execution_count": 39,
     "metadata": {},
     "output_type": "execute_result"
    }
   ],
   "source": [
    "cm = confusion_matrix(y_test,prediction)\n",
    "cm"
   ]
  },
  {
   "cell_type": "code",
   "execution_count": 49,
   "id": "8df19520",
   "metadata": {},
   "outputs": [
    {
     "data": {
      "text/plain": [
       "Text(50.72222222222221, 0.5, 'Actual')"
      ]
     },
     "execution_count": 49,
     "metadata": {},
     "output_type": "execute_result"
    },
    {
     "data": {
      "image/png": "[encoded data removed]",
      "text/plain": [
       "<Figure size 640x480 with 2 Axes>"
      ]
     },
     "metadata": {},
     "output_type": "display_data"
    }
   ],
   "source": [
    "ax = sns.heatmap(cm,annot=True, fmt='d',cmap='Reds',xticklabels=species_name,yticklabels=species_name)\n",
    "ax.set_title(\"Iris Dataset Prediction\")\n",
    "ax.set_xlabel('Prediction',fontsize=15)\n",
    "ax.set_ylabel('Actual',fontsize=15)"
   ]
  },
  {
   "cell_type": "code",
   "execution_count": null,
   "id": "ae777051",
   "metadata": {},
   "outputs": [],
   "source": []
  }
 ],
 "metadata": {
  "kernelspec": {
   "display_name": "Python 3 (ipykernel)",
   "language": "python",
   "name": "python3"
  },
  "language_info": {
   "codemirror_mode": {
    "name": "ipython",
    "version": 3
   },
   "file_extension": ".py",
   "mimetype": "text/x-python",
   "name": "python",
   "nbconvert_exporter": "python",
   "pygments_lexer": "ipython3",
   "version": "3.10.9"
  }
 },
 "nbformat": 4,
 "nbformat_minor": 5
}
